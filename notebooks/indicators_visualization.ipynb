{
 "cells": [
  {
   "cell_type": "code",
   "execution_count": null,
   "id": "5415821d",
   "metadata": {},
   "outputs": [
    {
     "name": "stdout",
     "output_type": "stream",
     "text": [
      "\n",
      "📊 Plotting for AAPL\n",
      "⚠️ AAPL file not found.\n",
      "\n",
      "📊 Plotting for AMZN\n",
      "⚠️ AMZN file not found.\n",
      "\n",
      "📊 Plotting for GOOG\n",
      "⚠️ GOOG file not found.\n",
      "\n",
      "📊 Plotting for META\n",
      "⚠️ META file not found.\n",
      "\n",
      "📊 Plotting for MSFT\n",
      "⚠️ MSFT file not found.\n",
      "\n",
      "📊 Plotting for NVDA\n",
      "⚠️ NVDA file not found.\n",
      "\n",
      "📊 Plotting for TSLA\n",
      "⚠️ TSLA file not found.\n"
     ]
    }
   ],
   "source": [
    "import pandas as pd\n",
    "import matplotlib.pyplot as plt\n",
    "import seaborn as sns\n",
    "import os\n",
    "\n",
    "processed_dir = \"../data/processed\"  # Adjust if running notebook from root\n",
    "tickers = [\"AAPL\", \"AMZN\", \"GOOG\", \"META\", \"MSFT\", \"NVDA\", \"TSLA\"]\n",
    "\n",
    "for ticker in tickers:\n",
    "    print(f\"\\n📊 Plotting for {ticker}\")\n",
    "    path = f\"{processed_dir}/{ticker}_historical_data.csv\"\n",
    "    \n",
    "    if not os.path.exists(path):\n",
    "        print(f\"⚠️ {ticker} file not found.\")\n",
    "        continue\n",
    "\n",
    "    df = pd.read_csv(path)\n",
    "    \n",
    "    # Plot Close vs SMA\n",
    "    plt.figure(figsize=(12, 6))\n",
    "    plt.plot(df['Date'], df['Close'], label='Close Price')\n",
    "    plt.plot(df['Date'], df['SMA_20'], label='SMA 20')\n",
    "    plt.legend()\n",
    "    plt.title(f'{ticker} - Close vs SMA')\n",
    "    plt.xlabel('Date')\n",
    "    plt.ylabel('Price')\n",
    "    plt.xticks(rotation=45)\n",
    "    plt.tight_layout()\n",
    "    plt.show()\n",
    "\n",
    "    # Plot RSI\n",
    "    plt.figure(figsize=(10, 4))\n",
    "    plt.plot(df['Date'], df['RSI_14'], label='RSI 14', color='orange')\n",
    "    plt.axhline(70, color='r', linestyle='--', label='Overbought')\n",
    "    plt.axhline(30, color='g', linestyle='--', label='Oversold')\n",
    "    plt.title(f'{ticker} - RSI')\n",
    "    plt.xlabel('Date')\n",
    "    plt.ylabel('RSI')\n",
    "    plt.legend()\n",
    "    plt.xticks(rotation=45)\n",
    "    plt.tight_layout()\n",
    "    plt.show()\n"
   ]
  }
 ],
 "metadata": {
  "kernelspec": {
   "display_name": "venv (3.13.5)",
   "language": "python",
   "name": "python3"
  },
  "language_info": {
   "codemirror_mode": {
    "name": "ipython",
    "version": 3
   },
   "file_extension": ".py",
   "mimetype": "text/x-python",
   "name": "python",
   "nbconvert_exporter": "python",
   "pygments_lexer": "ipython3",
   "version": "3.13.5"
  }
 },
 "nbformat": 4,
 "nbformat_minor": 5
}
